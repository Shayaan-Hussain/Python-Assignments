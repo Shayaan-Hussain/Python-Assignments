{
 "cells": [
  {
   "cell_type": "code",
   "execution_count": 1,
   "metadata": {},
   "outputs": [
    {
     "name": "stdout",
     "output_type": "stream",
     "text": [
      "Enter year number : 1985\n",
      "ox\n"
     ]
    }
   ],
   "source": [
    "#Question1\n",
    "n=int(input('Enter year number : '))\n",
    "items=['monkey','rooster','dog','pig','rat','ox','tiger','rabbit','dragon','snake','horse','sheep']\n",
    "print(items[n%12])"
   ]
  },
  {
   "cell_type": "code",
   "execution_count": 2,
   "metadata": {},
   "outputs": [
    {
     "name": "stdout",
     "output_type": "stream",
     "text": [
      "Distance to be travelled: 520\n",
      "Weight of the goods: 50\n",
      "Amount to be charged: 3120/-\n"
     ]
    }
   ],
   "source": [
    "#Question2\n",
    "dist=int(input('Distance to be travelled: '))\n",
    "w=int(input('Weight of the goods: '))\n",
    "if dist>=500:\n",
    "    if w>=100:\n",
    "        cost=5*dist\n",
    "    elif w>=10 and w<100:\n",
    "        cost=6*dist\n",
    "    else:\n",
    "        cost=7*dist\n",
    "else:\n",
    "    if w>=100:\n",
    "        cost=8*dist\n",
    "    else:\n",
    "        cost=5*dist\n",
    "print('Amount to be charged: '+str(cost)+'/-')"
   ]
  },
  {
   "cell_type": "code",
   "execution_count": 3,
   "metadata": {},
   "outputs": [
    {
     "name": "stdout",
     "output_type": "stream",
     "text": [
      "Type of Seat: Circle\n",
      "Payment mode: cash\n",
      "Cost of ticket: 675\n"
     ]
    }
   ],
   "source": [
    "#Question3\n",
    "seat=input('Type of Seat: ')\n",
    "if seat=='Stalls':\n",
    "    cost=625\n",
    "elif seat=='Circle':\n",
    "    cost=750\n",
    "elif seat=='Upper Class':\n",
    "    cost=850\n",
    "elif seat=='Box':\n",
    "    cost=1000\n",
    "else:\n",
    "    print('Invalid input')\n",
    "    cost=0\n",
    "paymode=input('Payment mode: ')\n",
    "if paymode=='cash':\n",
    "    cost=cost*90/100\n",
    "elif paymode=='credit card':\n",
    "    cost=cost*95/100\n",
    "else:\n",
    "    print('Invalid payment mode')\n",
    "print('Cost of ticket: '+str(int(cost)))"
   ]
  },
  {
   "cell_type": "code",
   "execution_count": 4,
   "metadata": {},
   "outputs": [
    {
     "name": "stdout",
     "output_type": "stream",
     "text": [
      "Please enter the amount of water (kilograms) : 10\n",
      "Please enter the initial temperature of water (degree celsius) : 35\n",
      "Please enter the final temperature of water (degree celsius) : 90\n",
      "Energy required to heat the water = 2301200.0 joules\n"
     ]
    }
   ],
   "source": [
    "#Question4\n",
    "M=float(input('Please enter the amount of water (kilograms) : '))\n",
    "initialTemperature=float(input('Please enter the initial temperature of water (degree celsius) : '))\n",
    "finalTemperature=float(input('Please enter the final temperature of water (degree celsius) : '))\n",
    "Q = M * 4184 * (finalTemperature - initialTemperature)\n",
    "print(f'Energy required to heat the water = {Q} joules')"
   ]
  },
  {
   "cell_type": "code",
   "execution_count": 5,
   "metadata": {},
   "outputs": [
    {
     "name": "stdout",
     "output_type": "stream",
     "text": [
      "Enter a month name : April\n",
      "Spring\n"
     ]
    }
   ],
   "source": [
    "#Question5\n",
    "month=input('Enter a month name : ')\n",
    "if month=='December' or month=='January' or month=='February':\n",
    "    output=\"Winter\"\n",
    "elif month=='March' or month=='April' or month=='May':\n",
    "    output=\"Spring\"\n",
    "elif month=='June' or month=='July' or month=='August':\n",
    "    output=\"Summer\"\n",
    "elif month=='September' or month=='October' or month=='November':\n",
    "    output=\"Autumn\"\n",
    "else:\n",
    "    output=\"Invalid Input\"\n",
    "print(output)"
   ]
  },
  {
   "cell_type": "code",
   "execution_count": 6,
   "metadata": {},
   "outputs": [
    {
     "name": "stdout",
     "output_type": "stream",
     "text": [
      "Enter the weight (pounds): 132.5\n",
      "Enter the height (inches): 63\n",
      "BMI = 23.47108070097975, you are Normal\n"
     ]
    }
   ],
   "source": [
    "#Question6\n",
    "weight=float(input('Enter the weight (pounds): '))\n",
    "height=float(input('Enter the height (inches): '))\n",
    "weight=weight*0.45359237\n",
    "height=height*0.0254\n",
    "bmi=weight/(height**2)\n",
    "if bmi<18.5:\n",
    "    interpret=\"Underweight\"\n",
    "elif bmi<25:\n",
    "    interpret=\"Normal\"\n",
    "elif bmi<30:\n",
    "    interpret=\"Overweight\"\n",
    "else:\n",
    "    interpret=\"Obese\"\n",
    "print(f'BMI = {bmi}, you are {interpret}')"
   ]
  },
  {
   "cell_type": "code",
   "execution_count": 7,
   "metadata": {},
   "outputs": [
    {
     "name": "stdout",
     "output_type": "stream",
     "text": [
      "Enter an integer: 745\n",
      "Sum = 16\n"
     ]
    }
   ],
   "source": [
    "#Question7\n",
    "n=int(input('Enter an integer: '))\n",
    "sum_of_d=0\n",
    "for num in str(n):\n",
    "    sum_of_d+=int(num)\n",
    "print(f'Sum = {sum_of_d}')"
   ]
  },
  {
   "cell_type": "code",
   "execution_count": 8,
   "metadata": {},
   "outputs": [
    {
     "name": "stdout",
     "output_type": "stream",
     "text": [
      "1\n",
      "2\n",
      "3\n",
      "4\n",
      "5\n",
      "6\n",
      "7\n",
      "8\n",
      "9\n",
      "11\n",
      "22\n",
      "33\n",
      "44\n",
      "55\n",
      "66\n",
      "77\n",
      "88\n",
      "99\n",
      "101\n",
      "111\n",
      "121\n",
      "131\n",
      "141\n",
      "151\n",
      "161\n",
      "171\n",
      "181\n",
      "191\n",
      "202\n",
      "212\n",
      "222\n",
      "232\n",
      "242\n",
      "252\n",
      "262\n",
      "272\n",
      "282\n",
      "292\n",
      "303\n",
      "313\n",
      "323\n",
      "333\n",
      "343\n",
      "353\n",
      "363\n",
      "373\n",
      "383\n",
      "393\n",
      "404\n",
      "414\n",
      "424\n",
      "434\n",
      "444\n",
      "454\n",
      "464\n",
      "474\n",
      "484\n",
      "494\n",
      "505\n",
      "515\n",
      "525\n",
      "535\n",
      "545\n",
      "555\n",
      "565\n",
      "575\n",
      "585\n",
      "595\n",
      "606\n",
      "616\n",
      "626\n",
      "636\n",
      "646\n",
      "656\n",
      "666\n",
      "676\n",
      "686\n",
      "696\n",
      "707\n",
      "717\n",
      "727\n",
      "737\n",
      "747\n",
      "757\n",
      "767\n",
      "777\n",
      "787\n",
      "797\n",
      "808\n",
      "818\n",
      "828\n",
      "838\n",
      "848\n",
      "858\n",
      "868\n",
      "878\n",
      "888\n",
      "898\n",
      "909\n",
      "919\n",
      "929\n",
      "939\n",
      "949\n",
      "959\n",
      "969\n",
      "979\n",
      "989\n",
      "999\n"
     ]
    }
   ],
   "source": [
    "#Question8\n",
    "for i in range(1,1001):\n",
    "    if str(i)==str(i)[::-1]:\n",
    "        print(i)"
   ]
  },
  {
   "cell_type": "code",
   "execution_count": 9,
   "metadata": {},
   "outputs": [
    {
     "name": "stdout",
     "output_type": "stream",
     "text": [
      "1\n",
      "2\n",
      "3\n",
      "4\n",
      "5\n",
      "6\n",
      "7\n",
      "8\n",
      "9\n",
      "153\n",
      "370\n",
      "371\n",
      "407\n"
     ]
    }
   ],
   "source": [
    "#Question9\n",
    "for i in range(1,1001):\n",
    "    arms=0\n",
    "    k=len(str(i))\n",
    "    for j in str(i):\n",
    "        arms+=int(j)**k\n",
    "    if arms==i:\n",
    "        print(i)"
   ]
  },
  {
   "cell_type": "code",
   "execution_count": 10,
   "metadata": {},
   "outputs": [
    {
     "name": "stdout",
     "output_type": "stream",
     "text": [
      "Fizz\n",
      "Buzz\n",
      "Fizz\n",
      "Fizz\n",
      "Buzz\n",
      "Fizz\n",
      "Fizz Buzz\n",
      "Fizz\n",
      "Buzz\n",
      "Fizz\n",
      "Fizz\n",
      "Buzz\n",
      "Fizz\n",
      "Fizz Buzz\n",
      "Fizz\n",
      "Buzz\n",
      "Fizz\n",
      "Fizz\n",
      "Buzz\n",
      "Fizz\n",
      "Fizz Buzz\n",
      "Fizz\n",
      "Buzz\n",
      "Fizz\n",
      "Fizz\n",
      "Buzz\n",
      "Fizz\n",
      "Fizz Buzz\n",
      "Fizz\n",
      "Buzz\n",
      "Fizz\n",
      "Fizz\n",
      "Buzz\n",
      "Fizz\n",
      "Fizz Buzz\n",
      "Fizz\n",
      "Buzz\n",
      "Fizz\n",
      "Fizz\n",
      "Buzz\n",
      "Fizz\n",
      "Fizz Buzz\n",
      "Fizz\n",
      "Buzz\n",
      "Fizz\n",
      "Fizz\n",
      "Buzz\n"
     ]
    }
   ],
   "source": [
    "#Question10\n",
    "for i in range(1,101):\n",
    "    if i%3==0 and i%5==0:\n",
    "        print('Fizz Buzz')\n",
    "    elif i%3==0:\n",
    "        print('Fizz')\n",
    "    elif i%5==0:\n",
    "        print('Buzz')"
   ]
  },
  {
   "cell_type": "code",
   "execution_count": 11,
   "metadata": {},
   "outputs": [
    {
     "name": "stdout",
     "output_type": "stream",
     "text": [
      "Height : 500\n",
      "Meters climbed up in each step : 20\n",
      "Meters slipped down in each step : 15\n",
      "Steps required to get out of well = 98\n"
     ]
    }
   ],
   "source": [
    "#Question11\n",
    "h=int(input('Height : '))\n",
    "u=int(input('Meters climbed up in each step : '))\n",
    "d=int(input('Meters slipped down in each step : '))\n",
    "climb=0\n",
    "count=0\n",
    "while climb<=h:\n",
    "    if climb+u>h:\n",
    "        count+=1\n",
    "        break\n",
    "    climb+=u-d\n",
    "    count+=1\n",
    "print(f'Steps required to get out of well = {count}')"
   ]
  },
  {
   "cell_type": "code",
   "execution_count": null,
   "metadata": {},
   "outputs": [],
   "source": []
  }
 ],
 "metadata": {
  "kernelspec": {
   "display_name": "Python 3",
   "language": "python",
   "name": "python3"
  },
  "language_info": {
   "codemirror_mode": {
    "name": "ipython",
    "version": 3
   },
   "file_extension": ".py",
   "mimetype": "text/x-python",
   "name": "python",
   "nbconvert_exporter": "python",
   "pygments_lexer": "ipython3",
   "version": "3.7.6"
  }
 },
 "nbformat": 4,
 "nbformat_minor": 4
}
