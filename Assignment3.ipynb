{
 "cells": [
  {
   "cell_type": "code",
   "execution_count": 1,
   "metadata": {},
   "outputs": [
    {
     "name": "stdout",
     "output_type": "stream",
     "text": [
      "Enter side a: 5\n",
      "Enter side b: 12\n",
      "Enter side c: 13\n",
      "30.0\n"
     ]
    }
   ],
   "source": [
    "#Question1\n",
    "import math\n",
    "def area(a,b,c):\n",
    "    semi_peri=(a+b+c)/2\n",
    "    area_of_t=math.sqrt(semi_peri*(semi_peri-a)*(semi_peri-b)*(semi_peri-c))\n",
    "    return area_of_t\n",
    "a=float(input('Enter side a: '))\n",
    "b=float(input('Enter side b: '))\n",
    "c=float(input('Enter side c: '))\n",
    "print(area(a,b,c))"
   ]
  },
  {
   "cell_type": "code",
   "execution_count": 2,
   "metadata": {},
   "outputs": [
    {
     "name": "stdout",
     "output_type": "stream",
     "text": [
      "Enter a string: level\n",
      "String is palindrome\n"
     ]
    }
   ],
   "source": [
    "#Question2\n",
    "string=input('Enter a string: ')\n",
    "if string==string[::-1]:\n",
    "    print('String is palindrome')\n",
    "else:\n",
    "    print('String is not palindrome')"
   ]
  },
  {
   "cell_type": "code",
   "execution_count": 3,
   "metadata": {},
   "outputs": [
    {
     "name": "stdout",
     "output_type": "stream",
     "text": [
      "Enter the year: 2024\n",
      "It is a leap year\n"
     ]
    }
   ],
   "source": [
    "#Question3\n",
    "year=int(input('Enter the year: '))\n",
    "if year%4==0:\n",
    "    print('It is a leap year')\n",
    "else:\n",
    "    print('It is not a leap year')"
   ]
  },
  {
   "cell_type": "code",
   "execution_count": 4,
   "metadata": {},
   "outputs": [
    {
     "name": "stdout",
     "output_type": "stream",
     "text": [
      "Enter a string: This program converts spaces into hyphen\n",
      "This-program-converts-spaces-into-hyphen\n"
     ]
    }
   ],
   "source": [
    "#Question4\n",
    "string=input('Enter a string: ')\n",
    "update=string.replace(' ','-')\n",
    "print(update)"
   ]
  },
  {
   "cell_type": "code",
   "execution_count": 5,
   "metadata": {},
   "outputs": [
    {
     "name": "stdout",
     "output_type": "stream",
     "text": [
      "Enter a string: orange,white,red,cyan,green,magenta,cyan,pink,white\n",
      "cyan,green,magenta,orange,pink,red,white\n"
     ]
    }
   ],
   "source": [
    "#Question5\n",
    "string=input('Enter a string: ')\n",
    "string_list=string.split(',')\n",
    "string_set=set(string_list)\n",
    "string_list=list(string_set)\n",
    "string_list.sort()\n",
    "string=','.join(string_list)\n",
    "print(string)"
   ]
  },
  {
   "cell_type": "code",
   "execution_count": 6,
   "metadata": {},
   "outputs": [
    {
     "name": "stdout",
     "output_type": "stream",
     "text": [
      "Enter your income: 500000\n",
      "Tax = 25000.0\n"
     ]
    }
   ],
   "source": [
    "#Question6\n",
    "salary=int(input('Enter your income: '))\n",
    "if salary<=250000:\n",
    "    tax=0\n",
    "elif salary<=500000:\n",
    "    tax=salary*5/100\n",
    "elif salary<=750000:\n",
    "    tax=salary*10/100\n",
    "elif salary<=1000000:\n",
    "    tax=salary*15/100\n",
    "elif salary<=1250000:\n",
    "    tax=salary*20/100\n",
    "elif salary<=1500000:\n",
    "    tax=salary*25/100\n",
    "else:\n",
    "    tax=salary*30/100\n",
    "print(f'Tax = {tax}')"
   ]
  },
  {
   "cell_type": "code",
   "execution_count": 8,
   "metadata": {},
   "outputs": [
    {
     "name": "stdout",
     "output_type": "stream",
     "text": [
      "Enter number of elements in list: 3\n",
      "Enter number: 1\n",
      "Enter number: 4\n",
      "Enter number: 3\n",
      "143\n"
     ]
    }
   ],
   "source": [
    "#Question7\n",
    "n=int(input('Enter number of elements in list: '))\n",
    "numlist=[]\n",
    "string=''\n",
    "for i in range(0,n):\n",
    "    num=int(input('Enter number: '))\n",
    "    numlist.append(num)\n",
    "    string=string+str(num)\n",
    "num=str(string)\n",
    "print(num)"
   ]
  },
  {
   "cell_type": "code",
   "execution_count": 7,
   "metadata": {},
   "outputs": [
    {
     "name": "stdout",
     "output_type": "stream",
     "text": [
      "Enter number of days: 2\n",
      "Enter number of hours: 3\n",
      "Enter number of minutes: 19\n",
      "Enter number of seconds: 4\n",
      "Total seconds = 184744\n"
     ]
    }
   ],
   "source": [
    "#Question8\n",
    "days=int(input('Enter number of days: '))\n",
    "hour=int(input('Enter number of hours: '))\n",
    "mins=int(input('Enter number of minutes: '))\n",
    "secs=int(input('Enter number of seconds: '))\n",
    "days_to_sec=days*24*60*60\n",
    "hour_to_sec=hour*60*60\n",
    "mins_to_sec=mins*60\n",
    "total_sec=days_to_sec+hour_to_sec+mins_to_sec+secs\n",
    "print(f'Total seconds = {total_sec}')"
   ]
  },
  {
   "cell_type": "code",
   "execution_count": 8,
   "metadata": {},
   "outputs": [
    {
     "name": "stdout",
     "output_type": "stream",
     "text": [
      "Enter 1st number: 12\n",
      "Enter 2nd number: 4\n",
      "Enter 3rd number: 17\n",
      "17,12,4\n"
     ]
    }
   ],
   "source": [
    "#Question9\n",
    "num1=int(input('Enter 1st number: '))\n",
    "num2=int(input('Enter 2nd number: '))\n",
    "num3=int(input('Enter 3rd number: '))\n",
    "numlist=[num1,num2,num3]\n",
    "highest=max(num1,num2,num3)\n",
    "numlist.remove(highest)\n",
    "lowest=min(num1,num2,num3)\n",
    "numlist.remove(lowest)\n",
    "print(f'{highest},{numlist[0]},{lowest}')"
   ]
  },
  {
   "cell_type": "code",
   "execution_count": 9,
   "metadata": {},
   "outputs": [
    {
     "name": "stdout",
     "output_type": "stream",
     "text": [
      "Enter date (format YYYY-MM-DD): 2020-06-30\n",
      "2020-07-01\n"
     ]
    }
   ],
   "source": [
    "#Question10\n",
    "day=input('Enter date (format YYYY-MM-DD): ')\n",
    "year=int(day[0:4])\n",
    "month=int(day[5:7])\n",
    "date=int(day[-2:])\n",
    "if month<=12 and month>=1 and date>=1 and date:\n",
    "    date=date+1\n",
    "    if month%2==1 and month<=7 and date==32:\n",
    "        month=month+1\n",
    "        date=1\n",
    "    elif month%2==0 and month<7 and date==31:\n",
    "        month=month+1\n",
    "        date=1\n",
    "    elif month%2==0 and month>7 and date==32:\n",
    "        month=month+1\n",
    "        date=1\n",
    "    elif month%2==1 and month>7 and date==31:\n",
    "        month=month+1\n",
    "        date=1\n",
    "    if month==13:\n",
    "        month=1\n",
    "        year=year+1\n",
    "    print('{:04d}'.format(year)+'-'+'{:02d}'.format(month)+'-'+'{:02d}'.format(date))"
   ]
  },
  {
   "cell_type": "code",
   "execution_count": 10,
   "metadata": {},
   "outputs": [
    {
     "name": "stdout",
     "output_type": "stream",
     "text": [
      "121111200\n"
     ]
    }
   ],
   "source": [
    "#Question11\n",
    "numlist=[45 ,3,2,89,72,1,10,7]\n",
    "prod=1\n",
    "for i in numlist:\n",
    "    prod*=i\n",
    "print(prod)"
   ]
  },
  {
   "cell_type": "code",
   "execution_count": 11,
   "metadata": {},
   "outputs": [
    {
     "name": "stdout",
     "output_type": "stream",
     "text": [
      "[11, 14, 42, 123, 90]\n"
     ]
    }
   ],
   "source": [
    "#Question12\n",
    "numlist=[5,6,8,34,89,1]\n",
    "i=0\n",
    "newlist=[]\n",
    "while i<len(numlist)-1:\n",
    "    newlist.append(numlist[i]+numlist[i+1])\n",
    "    i+=1\n",
    "print(newlist)"
   ]
  },
  {
   "cell_type": "code",
   "execution_count": 12,
   "metadata": {},
   "outputs": [
    {
     "name": "stdout",
     "output_type": "stream",
     "text": [
      "[5, 30, 240, 720, 6480, 6480]\n"
     ]
    }
   ],
   "source": [
    "#Question13\n",
    "numtuple=(5,6,8,3,9,1)\n",
    "prod=1\n",
    "i=0\n",
    "outlist=[]\n",
    "while i<len(numtuple):\n",
    "    prod*=numtuple[i]\n",
    "    outlist.append(prod)\n",
    "    i+=1\n",
    "print(outlist)"
   ]
  },
  {
   "cell_type": "code",
   "execution_count": 13,
   "metadata": {},
   "outputs": [
    {
     "name": "stdout",
     "output_type": "stream",
     "text": [
      "Enter an integer: 93842\n",
      "['9', '3', '8', '4', '2']\n"
     ]
    }
   ],
   "source": [
    "#Question14\n",
    "num=int(input('Enter an integer: '))\n",
    "numstr=str(num)\n",
    "i=0\n",
    "dlist=[]\n",
    "while i<len(numstr):\n",
    "    dlist.append(numstr[i])\n",
    "    i+=1\n",
    "print(dlist)"
   ]
  },
  {
   "cell_type": "code",
   "execution_count": 14,
   "metadata": {},
   "outputs": [
    {
     "name": "stdout",
     "output_type": "stream",
     "text": [
      "Enter a string: high level\n",
      "Longest substring is: level\n",
      "Length of palindrome substring = 5\n"
     ]
    }
   ],
   "source": [
    "#Question15\n",
    "string=input('Enter a string: ')\n",
    "pal=1\n",
    "for i in range(0,len(string)):\n",
    "    for j in range(i+1,len(string)):\n",
    "        if string[i:j] == string[j:i:-1]:\n",
    "            if len(string[i:j])>pal:\n",
    "                pal=len(string[i:j])\n",
    "                palstring=(string[i:j+1])\n",
    "print(f'Longest substring is: {palstring}')\n",
    "print(f'Length of palindrome substring = {pal+1}')"
   ]
  },
  {
   "cell_type": "code",
   "execution_count": 15,
   "metadata": {},
   "outputs": [
    {
     "name": "stdout",
     "output_type": "stream",
     "text": [
      "Enter a binary number a: 1010110010\n",
      "Enter another binary number b: 10110\n",
      "b is a substring of a\n"
     ]
    }
   ],
   "source": [
    "#Question16\n",
    "a=input('Enter a binary number a: ')\n",
    "b=input('Enter another binary number b: ')\n",
    "alen=len(a)\n",
    "test=0\n",
    "for i in range(0,alen):\n",
    "    if a[i:i+len(b)]==b:\n",
    "        test=1\n",
    "if test==1:\n",
    "    print('b is a substring of a')\n",
    "else:\n",
    "    print('b is not a substring of a')"
   ]
  },
  {
   "cell_type": "code",
   "execution_count": 16,
   "metadata": {},
   "outputs": [
    {
     "name": "stdout",
     "output_type": "stream",
     "text": [
      "Enter number of test cases: 2\n",
      "Enter capacity of A vessel: 5\n",
      "Enter capacity of B vessel: 2\n",
      "Enter required litres of water: 3\n",
      "2\n",
      "Enter capacity of A vessel: 2\n",
      "Enter capacity of B vessel: 3\n",
      "Enter required litres of water: 4\n",
      "-1\n"
     ]
    }
   ],
   "source": [
    "#Question 17\n",
    "def check(a,b,c):\n",
    "    i=0\n",
    "    jug1=0\n",
    "    jug2=0\n",
    "    while jug1!=c and jug2!=c:\n",
    "        if jug2==0: \n",
    "            jug2=b \n",
    "            i+=1\n",
    "        if jug1 == a: \n",
    "            jug1 = 0\n",
    "            i+=1\n",
    "        if jug2<a-jug1:\n",
    "            temp=jug2\n",
    "        else:\n",
    "            temp=a-jug1\n",
    "        jug1+=temp\n",
    "        jug2-=temp\n",
    "        i+=1\n",
    "    return i\n",
    "        \n",
    "n=int(input('Enter number of test cases: '))\n",
    "for x in range(0,n):\n",
    "    a=int(input('Enter capacity of A vessel: '))\n",
    "    b=int(input('Enter capacity of B vessel: '))\n",
    "    c=int(input('Enter required litres of water: '))\n",
    "    if a<c and b<c:\n",
    "        result=-1\n",
    "    else:\n",
    "        if check(a,b,c)<check(b,a,c):\n",
    "            result=check(a,b,c)\n",
    "        else:\n",
    "            result=check(b,a,c)\n",
    "    print(result)"
   ]
  },
  {
   "cell_type": "code",
   "execution_count": null,
   "metadata": {},
   "outputs": [],
   "source": []
  }
 ],
 "metadata": {
  "kernelspec": {
   "display_name": "Python 3",
   "language": "python",
   "name": "python3"
  },
  "language_info": {
   "codemirror_mode": {
    "name": "ipython",
    "version": 3
   },
   "file_extension": ".py",
   "mimetype": "text/x-python",
   "name": "python",
   "nbconvert_exporter": "python",
   "pygments_lexer": "ipython3",
   "version": "3.7.6"
  }
 },
 "nbformat": 4,
 "nbformat_minor": 4
}
