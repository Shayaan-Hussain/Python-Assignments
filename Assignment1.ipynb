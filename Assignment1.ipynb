{
 "cells": [
  {
   "cell_type": "code",
   "execution_count": null,
   "metadata": {},
   "outputs": [],
   "source": [
    "'''Question 1\n",
    "print(0.1+0.2)\n",
    "print(\"1.8\"+\"2\")\n",
    "print(87>78)\n",
    "print((0.1+0.2)==0.3)\n",
    "print(\"Predict \" \"Output\" ,\".....\")'''\n",
    "0.3\n",
    "1.82\n",
    "True\n",
    "True\n",
    "Predict Output ....."
   ]
  },
  {
   "cell_type": "code",
   "execution_count": null,
   "metadata": {},
   "outputs": [],
   "source": [
    "'''Question 2\n",
    "print(\"Prints\",\"multiple\",\"messages\\n\")\n",
    "print(\"Concatenate \"+\" two strings\\n\")\n",
    "print(5+6+\" adds two numbers\\n\")'''\n",
    "Prints multiple messages\n",
    "\n",
    "Concatenate  two strings\n",
    "\n",
    "Integer and string can not be concatenated. Hence, TypeError."
   ]
  },
  {
   "cell_type": "code",
   "execution_count": 18,
   "metadata": {},
   "outputs": [
    {
     "name": "stdout",
     "output_type": "stream",
     "text": [
      "banana\n",
      "C:\\naresh\\raju\\abhi\n"
     ]
    }
   ],
   "source": [
    "#Question 3\n",
    "print(\"ba\"+\"na\"*2)\n",
    "print(r\"C:\\naresh\\raju\\abhi\")"
   ]
  },
  {
   "cell_type": "code",
   "execution_count": 19,
   "metadata": {},
   "outputs": [
    {
     "name": "stdout",
     "output_type": "stream",
     "text": [
      "g anytoW\n",
      "sscc\n"
     ]
    }
   ],
   "source": [
    "#Question 4\n",
    "print('Welcome to Python traing program'[-4::-4])\n",
    "print('A series of characters designated as one object knows as a string'[2:18:5])"
   ]
  },
  {
   "cell_type": "code",
   "execution_count": null,
   "metadata": {},
   "outputs": [],
   "source": [
    "'''Question 5\n",
    "print('A series of characters designated as one object known as a string'[::-1][4::3])\n",
    "print('-----------')\n",
    "print('Welcome to Python traing program'[3:10][::-1])'''\n",
    "taawkcbe  tgestrcoeeA\n",
    "-----------\n",
    "ot emoc\n",
    "#First Line : [::-1] is the code to get reverse of the given string. Hence we get: 'gnirts a sa nwonk tcejbo eno sa detangised sretcarahc fo seires A'\n",
    "#             now, [4::3] is the code to grab every 3rd character starting from the 4th index position. Hence we get 'taawkcbe  tgestrcoeeA'\n",
    "#Second Line: ----------- is directly printed as a string is inside the print statement\n",
    "#Third Line : First we slice the string from index 3 to index 10. Hence we get 'come to'\n",
    "#             Then we reverse this string and get 'ot emoc'"
   ]
  },
  {
   "cell_type": "code",
   "execution_count": null,
   "metadata": {},
   "outputs": [],
   "source": [
    "'''Question 6 a.\n",
    "str1=True\n",
    "x=5>3\n",
    "print(str1==x)\n",
    "y=5>8\n",
    "print(str1==y)'''\n",
    "True\n",
    "False\n",
    "#The first print statement says str1==x. Value of x is boolean. 5>3 is True, str1 is also True. hence str1==x is True\n",
    "#The second print statement says str1==y. Value of y is 5>8 which is False, but str1 is True. Hence, str1==y is False"
   ]
  },
  {
   "cell_type": "code",
   "execution_count": null,
   "metadata": {},
   "outputs": [],
   "source": [
    "'''Question 6 b.\n",
    "num=7\n",
    "Name=\"Michael Jackson\"\n",
    "sear_num=Name.find('el')\n",
    "print(num>sear_num)'''\n",
    "True\n",
    "#The value of sear_num is the index number of 'e' in 'el' on its first occurrence which is 5. num=7 which is greater than 5\n",
    "#Hence, num>sear_num is True"
   ]
  },
  {
   "cell_type": "code",
   "execution_count": 20,
   "metadata": {},
   "outputs": [
    {
     "name": "stdout",
     "output_type": "stream",
     "text": [
      "was it a car or a cat I saw\n",
      "WAS I TAC A RO RAC A TI SAW\n"
     ]
    }
   ],
   "source": [
    "#Question 7\n",
    "p_phrase=input()\n",
    "p_phrase=p_phrase.upper()\n",
    "print(p_phrase[::-1])"
   ]
  },
  {
   "cell_type": "code",
   "execution_count": 21,
   "metadata": {},
   "outputs": [
    {
     "name": "stdout",
     "output_type": "stream",
     "text": [
      "1934567\n",
      "946\n"
     ]
    }
   ],
   "source": [
    "#Question 8\n",
    "A=input()\n",
    "print(A[1::2])"
   ]
  },
  {
   "cell_type": "code",
   "execution_count": 22,
   "metadata": {},
   "outputs": [
    {
     "name": "stdout",
     "output_type": "stream",
     "text": [
      "['EKIL', 'GNIDAERPS', 'ROF', 'KCANK']\n"
     ]
    }
   ],
   "source": [
    "#Question 9\n",
    "fake_phrase=\"Fake news has a knack for spreading like wild fire\"\n",
    "fake_phrase=fake_phrase.upper()[-11:-35:-1]\n",
    "x=fake_phrase.split()\n",
    "print(x)"
   ]
  },
  {
   "cell_type": "code",
   "execution_count": 23,
   "metadata": {},
   "outputs": [
    {
     "name": "stdout",
     "output_type": "stream",
     "text": [
      "['Facebook', 'already', 'uses', 'AI', 'to', 'Filter', 'Fake', 'stories', 'from', 'the', 'feeds', 'of', 'users']\n"
     ]
    }
   ],
   "source": [
    "#Question 10\n",
    "msg1=\"Facebook already uses AI to Filter Fake stories from the feeds of users\"\n",
    "print(msg1.split())"
   ]
  },
  {
   "cell_type": "code",
   "execution_count": null,
   "metadata": {},
   "outputs": [],
   "source": [
    "#Question 11\n",
    "msg2=\"Welcome to sr engineering college\"\n",
    "x=msg2.count('o')\n",
    "y=msg2.count('r')\n",
    "msg2[y**x:(x**y+x+y):][::-1]\n",
    "\n",
    "The output will be ' rs ot'\n",
    "#Value of x is 3 and y is 2. y**x==8\n",
    "#x**y+x+y==14\n",
    "#Now the value of string msg2[y**x:(x**y+x+y):]==msg2[8:14:] will be 'to sr '\n",
    "#Now we reverse this string using [::-1]. Hence we get ' rs ot'"
   ]
  },
  {
   "cell_type": "code",
   "execution_count": null,
   "metadata": {},
   "outputs": [],
   "source": [
    "'''Question 12 a.\n",
    "num1,num2=\"94\",\"30\"\n",
    "data=\"As per Census 2011, Gender ratio of India is 943 females per 1000 males\"\n",
    "num1+num2[0] in data'''\n",
    "True\n",
    "#num1 is '94', num2[0] is '3'. num1+num2[0] is '943' which is present in data. Hence, output will be True"
   ]
  },
  {
   "cell_type": "code",
   "execution_count": null,
   "metadata": {},
   "outputs": [],
   "source": [
    "'''Question 12 b.\n",
    "print(data[:45],print(int(num1)+int(num2)))'''\n",
    "124\n",
    "As per Census 2011, Gender ratio of India is  None\n",
    "#First we convert num1 and num2 to integer and add them. Hence print 124\n",
    "#Next we print all characters from the start upto index 44 so we get 'As per Census 2011, Gender ratio of India is '\n",
    "#None is printed because there is no return value for the print(int(num1)+int(num2)) function"
   ]
  },
  {
   "cell_type": "code",
   "execution_count": 24,
   "metadata": {},
   "outputs": [
    {
     "name": "stdout",
     "output_type": "stream",
     "text": [
      "Please enter the amount of water (kilograms) : 10\n",
      "Please enter the initial temperature of water (degree celsius) : 25\n",
      "Please enter the final temperature of water (degree celsius) : 90\n",
      "Energy required to heat the water = 2719600.0 joules\n"
     ]
    }
   ],
   "source": [
    "#Question 13\n",
    "M=float(input('Please enter the amount of water (kilograms) : '))\n",
    "initialTemperature=float(input('Please enter the initial temperature of water (degree celsius) : '))\n",
    "finalTemperature=float(input('Please enter the final temperature of water (degree celsius) : '))\n",
    "Q = M * 4184 * (finalTemperature - initialTemperature)\n",
    "print(f'Energy required to heat the water = {Q} joules')"
   ]
  },
  {
   "cell_type": "code",
   "execution_count": 25,
   "metadata": {},
   "outputs": [
    {
     "name": "stdout",
     "output_type": "stream",
     "text": [
      "N : 5\n",
      "ZZZZZOOOOOOOOOO\n"
     ]
    }
   ],
   "source": [
    "#Question 14\n",
    "x=int(input('N : '))\n",
    "Z='Z'*x\n",
    "O='O'*x*2\n",
    "print(Z+O)"
   ]
  },
  {
   "cell_type": "code",
   "execution_count": 26,
   "metadata": {},
   "outputs": [
    {
     "name": "stdout",
     "output_type": "stream",
     "text": [
      "Enter 1st integer : 3\n",
      "Enter 2nd integer : 2\n",
      "9\n",
      "1\n",
      "4\n"
     ]
    }
   ],
   "source": [
    "#Question 15\n",
    "x=int(input('Enter 1st integer : '))\n",
    "y=int(input('Enter 2nd integer : '))\n",
    "pow=x**y\n",
    "div=x//y\n",
    "print(pow)\n",
    "print(div)\n",
    "print(div^(x+y))"
   ]
  },
  {
   "cell_type": "code",
   "execution_count": null,
   "metadata": {},
   "outputs": [],
   "source": []
  }
 ],
 "metadata": {
  "kernelspec": {
   "display_name": "Python 3",
   "language": "python",
   "name": "python3"
  },
  "language_info": {
   "codemirror_mode": {
    "name": "ipython",
    "version": 3
   },
   "file_extension": ".py",
   "mimetype": "text/x-python",
   "name": "python",
   "nbconvert_exporter": "python",
   "pygments_lexer": "ipython3",
   "version": "3.7.6"
  }
 },
 "nbformat": 4,
 "nbformat_minor": 4
}
