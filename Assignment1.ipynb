{
 "cells": [
  {
   "cell_type": "code",
   "execution_count": null,
   "metadata": {},
   "outputs": [],
   "source": [
    "#Note that the questions are in a docstring\n",
    "#Answers are written like a normal code\n",
    "#Explainations are written in comment line\n",
    "#An empty line is kept before and after the answer"
   ]
  },
  {
   "cell_type": "code",
   "execution_count": null,
   "metadata": {},
   "outputs": [],
   "source": [
    "'''1.\tPredict the output for the following code snippets:\n",
    "print(0.1+0.2)\n",
    "print(\"1.8\"+\"2\")\n",
    "print(87>78)\n",
    "print((0.1+0.2)==0.3)\n",
    "print(\"Predict \" \"Output\" ,\".....\")'''\n",
    "\n",
    "0.3\n",
    "1.82\n",
    "True\n",
    "True\n",
    "Predict Output .....\n"
   ]
  },
  {
   "cell_type": "code",
   "execution_count": null,
   "metadata": {},
   "outputs": [],
   "source": [
    "'''2.\tPredict the output for the following code snippets:\n",
    "print(\"Prints\",\"multiple\",\"messages\\n\")\n",
    "print(\"Concatenate \"+\" two strings\\n\")\n",
    "print(5+6+\" adds two numbers\\n\")'''\n",
    "\n",
    "Prints multiple messages\n",
    "\n",
    "Concatenate  two strings\n",
    "\n",
    "Integer and string can not be concatenated. Hence, TypeError.\n"
   ]
  },
  {
   "cell_type": "code",
   "execution_count": 18,
   "metadata": {},
   "outputs": [
    {
     "name": "stdout",
     "output_type": "stream",
     "text": [
      "banana\n",
      "C:\\naresh\\raju\\abhi\n"
     ]
    }
   ],
   "source": [
    "'''3.\tCorrect the given code snippets (only one change is allowed)\n",
    "print(\"ba\"\"na\"*2) Use appropriate operator to print banana\n",
    "print(\"C:\\naresh\\raju\\abhi\") Correct the code to print C:\\naresh\\raju\\abhi'''\n",
    "\n",
    "print(\"ba\"+\"na\"*2)\n",
    "print(r\"C:\\naresh\\raju\\abhi\")\n"
   ]
  },
  {
   "cell_type": "code",
   "execution_count": 19,
   "metadata": {},
   "outputs": [
    {
     "name": "stdout",
     "output_type": "stream",
     "text": [
      "g anytoW\n",
      "sscc\n"
     ]
    }
   ],
   "source": [
    "'''4.\tCorrect the given code snippets\n",
    "'Welcome to python traing program'[-14:24:-4]              should print 'g anytoW'\n",
    "'A series of characters designated as one object is known as a string'[::]     should print substring 'sscc'  '''\n",
    "\n",
    "print('Welcome to Python traing program'[-4::-4])\n",
    "print('A series of characters designated as one object knows as a string'[2:18:5])\n"
   ]
  },
  {
   "cell_type": "code",
   "execution_count": null,
   "metadata": {},
   "outputs": [],
   "source": [
    "'''5.\tPredict the output for the given code snippet and justify the result.\n",
    "print('A series of characters designated as one object known as a string'[::-1][4::3])\n",
    "print('-----------')\n",
    "print('Welcome to Python traing program'[3:10][::-1])'''\n",
    "\n",
    "taawkcbe  tgestrcoeeA\n",
    "-----------\n",
    "ot emoc\n",
    "\n",
    "#First Line : [::-1] is the code to get reverse of the given string. Hence we get: 'gnirts a sa nwonk tcejbo eno sa detangised sretcarahc fo seires A'\n",
    "#             now, [4::3] is the code to grab every 3rd character starting from the 4th index position. Hence we get 'taawkcbe  tgestrcoeeA'\n",
    "#Second Line: ----------- is directly printed as a string is inside the print statement\n",
    "#Third Line : First we slice the string from index 3 to index 10. Hence we get 'come to'\n",
    "#             Then we reverse this string and get 'ot emoc'"
   ]
  },
  {
   "cell_type": "code",
   "execution_count": null,
   "metadata": {},
   "outputs": [],
   "source": [
    "'''6.\tPredict the output for the given code snippet and justify the result\n",
    "a.\n",
    "str1=True\n",
    "x=5>3\n",
    "print(str1==x)\n",
    "y=5>8\n",
    "print(str1==y)'''\n",
    "\n",
    "True\n",
    "False\n",
    "\n",
    "#The first print statement says str1==x. Value of x is boolean. 5>3 is True, str1 is also True. hence str1==x is True\n",
    "#The second print statement says str1==y. Value of y is 5>8 which is False, but str1 is True. Hence, str1==y is False"
   ]
  },
  {
   "cell_type": "code",
   "execution_count": null,
   "metadata": {},
   "outputs": [],
   "source": [
    "'''b.\n",
    "num=7\n",
    "Name=\"Michael Jackson\"\n",
    "sear_num=Name.find('el')\n",
    "print(num>sear_num)'''\n",
    "\n",
    "True\n",
    "\n",
    "#The value of sear_num is the index number of 'e' in 'el' on its first occurrence which is 5. num=7 which is greater than 5\n",
    "#Hence, num>sear_num is True"
   ]
  },
  {
   "cell_type": "code",
   "execution_count": 20,
   "metadata": {},
   "outputs": [
    {
     "name": "stdout",
     "output_type": "stream",
     "text": [
      "was it a car or a cat I saw\n",
      "WAS I TAC A RO RAC A TI SAW\n"
     ]
    }
   ],
   "source": [
    "'''7.\tWrite a python code to get desired output\n",
    "Input string : p_phrase = \"was it a car or a cat I saw\"\n",
    "Output string : WAS I TAC A RO RAC A TI SAW'''\n",
    "\n",
    "p_phrase=input()\n",
    "p_phrase=p_phrase.upper()\n",
    "print(p_phrase[::-1])\n"
   ]
  },
  {
   "cell_type": "code",
   "execution_count": 21,
   "metadata": {},
   "outputs": [
    {
     "name": "stdout",
     "output_type": "stream",
     "text": [
      "1934567\n",
      "946\n"
     ]
    }
   ],
   "source": [
    "'''8.\tWrite a python code to print integer value : 946\n",
    "Input string : A='1934567' '''\n",
    "\n",
    "A=input()\n",
    "print(A[1::2])\n"
   ]
  },
  {
   "cell_type": "code",
   "execution_count": 22,
   "metadata": {},
   "outputs": [
    {
     "name": "stdout",
     "output_type": "stream",
     "text": [
      "['EKIL', 'GNIDAERPS', 'ROF', 'KCANK']\n"
     ]
    }
   ],
   "source": [
    "'''9.\tWrite a python code to get desired output\n",
    "In   :  fake_phrase=\"Fake news has a knack for spreading like wild fire\"\n",
    "Out  :  ['EKIL', 'GNIDAERPS', 'ROF', 'KCANK']   '''\n",
    "\n",
    "fake_phrase=\"Fake news has a knack for spreading like wild fire\"\n",
    "fake_phrase=fake_phrase.upper()[-11:-35:-1]\n",
    "x=fake_phrase.split()\n",
    "print(x)\n"
   ]
  },
  {
   "cell_type": "code",
   "execution_count": 23,
   "metadata": {},
   "outputs": [
    {
     "name": "stdout",
     "output_type": "stream",
     "text": [
      "['Facebook', 'already', 'uses', 'AI', 'to', 'Filter', 'Fake', 'stories', 'from', 'the', 'feeds', 'of', 'users']\n"
     ]
    }
   ],
   "source": [
    "'''10.\tWrite a python code to get desired output\n",
    "msg1 = \"Facebook already uses AI to Filter Fake stories from the feeds of users\"\n",
    "out = [Facebook , already, uses, AI, to, Filter, Fake, stories, from, the, feeds, of, users] '''\n",
    "\n",
    "msg1=\"Facebook already uses AI to Filter Fake stories from the feeds of users\"\n",
    "print(msg1.split())\n"
   ]
  },
  {
   "cell_type": "code",
   "execution_count": null,
   "metadata": {},
   "outputs": [],
   "source": [
    "'''11.\tPredict the output for given code snippet .Justify the result .\n",
    "msg2=\"Welcome to sr engineering college\"\n",
    "x= write the logic to count the occurrance of o in msg2   - expected 3\n",
    "y= write the logic to count the occurrance of r in msg2   - expected 2\n",
    "msg2[y**x:(x**y+x+y):][::-1] '''\n",
    "\n",
    "msg2=\"Welcome to sr engineering college\"\n",
    "x=msg2.count('o')\n",
    "y=msg2.count('r')\n",
    "msg2[y**x:(x**y+x+y):][::-1]\n",
    "\n",
    "The output will be ' rs ot'\n",
    "\n",
    "#Value of x is 3 and y is 2. y**x==8\n",
    "#x**y+x+y==14\n",
    "#Now the value of string msg2[y**x:(x**y+x+y):]==msg2[8:14:] will be 'to sr '\n",
    "#Now we reverse this string using [::-1]. Hence we get ' rs ot'"
   ]
  },
  {
   "cell_type": "code",
   "execution_count": null,
   "metadata": {},
   "outputs": [],
   "source": [
    "'''Question 12 a.\n",
    "num1,num2=\"94\",\"30\"\n",
    "data=\"As per Census 2011, Gender ratio of India is 943 females per 1000 males\"\n",
    "num1+num2[0] in data'''\n",
    "\n",
    "True\n",
    "\n",
    "#num1 is '94', num2[0] is '3'. num1+num2[0] is '943' which is present in data. Hence, output will be True"
   ]
  },
  {
   "cell_type": "code",
   "execution_count": null,
   "metadata": {},
   "outputs": [],
   "source": [
    "'''Question 12 b.\n",
    "print(data[:45],print(int(num1)+int(num2)))'''\n",
    "\n",
    "124\n",
    "As per Census 2011, Gender ratio of India is  None\n",
    "\n",
    "#First we convert num1 and num2 to integer and add them. Hence print 124\n",
    "#Next we print all characters from the start upto index 44 so we get 'As per Census 2011, Gender ratio of India is '\n",
    "#None is printed because there is no return value for the print(int(num1)+int(num2)) function"
   ]
  },
  {
   "cell_type": "code",
   "execution_count": 24,
   "metadata": {},
   "outputs": [
    {
     "name": "stdout",
     "output_type": "stream",
     "text": [
      "Please enter the amount of water (kilograms) : 10\n",
      "Please enter the initial temperature of water (degree celsius) : 25\n",
      "Please enter the final temperature of water (degree celsius) : 90\n",
      "Energy required to heat the water = 2719600.0 joules\n"
     ]
    }
   ],
   "source": [
    "'''13.\tDevelop a program that calculates the energy needed to heat water from an initial temperature to a final temperature.\n",
    "Your program should prompt the user to enter the amount of water in kilograms and the initial and final temperatures of the\n",
    "water. The formula to compute the energy is \n",
    "Q = M * (finalTemperature – initialTemperature) * 4184.\n",
    "Where M is the weight of water in kilograms, temperatures are in degrees Celsius, and energy Q is measured in joules. '''\n",
    "\n",
    "M=float(input('Please enter the amount of water (kilograms) : '))\n",
    "initialTemperature=float(input('Please enter the initial temperature of water (degree celsius) : '))\n",
    "finalTemperature=float(input('Please enter the final temperature of water (degree celsius) : '))\n",
    "Q = M * 4184 * (finalTemperature - initialTemperature)\n",
    "print(f'Energy required to heat the water = {Q} joules')\n"
   ]
  },
  {
   "cell_type": "code",
   "execution_count": 25,
   "metadata": {},
   "outputs": [
    {
     "name": "stdout",
     "output_type": "stream",
     "text": [
      "N : 5\n",
      "ZZZZZOOOOOOOOOO\n"
     ]
    }
   ],
   "source": [
    "'''14.\tYou are required to generate a word similar to ZOO, X and Y that denote the number of Zs and Os respectively.\n",
    "The generated word similar to ZOO where Y= 2 * X.'''\n",
    "\n",
    "x=int(input('N : '))\n",
    "Z='Z'*x\n",
    "O='O'*x*2\n",
    "print(Z+O)\n"
   ]
  },
  {
   "cell_type": "code",
   "execution_count": 26,
   "metadata": {},
   "outputs": [
    {
     "name": "stdout",
     "output_type": "stream",
     "text": [
      "Enter 1st integer : 3\n",
      "Enter 2nd integer : 2\n",
      "9\n",
      "1\n",
      "4\n"
     ]
    }
   ],
   "source": [
    "'''15.\tRead two integers X ,Y  from STDIN and print three lines where:\n",
    "1.\tThe first line print ,X to the power of Y (store the results into pow)\n",
    "2.\tThe second line prints the floor division between pow and product of X and Y (store the results into div).\n",
    "3.\tThe third line prints the exclusive  or (^)  between  div and sum of X and Y '''\n",
    "\n",
    "x=int(input('Enter 1st integer : '))\n",
    "y=int(input('Enter 2nd integer : '))\n",
    "pow=x**y\n",
    "div=x//y\n",
    "print(pow)\n",
    "print(div)\n",
    "print(div^(x+y))\n"
   ]
  }
 ],
 "metadata": {
  "kernelspec": {
   "display_name": "Python 3",
   "language": "python",
   "name": "python3"
  },
  "language_info": {
   "codemirror_mode": {
    "name": "ipython",
    "version": 3
   },
   "file_extension": ".py",
   "mimetype": "text/x-python",
   "name": "python",
   "nbconvert_exporter": "python",
   "pygments_lexer": "ipython3",
   "version": "3.7.6"
  }
 },
 "nbformat": 4,
 "nbformat_minor": 4
}
